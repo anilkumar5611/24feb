{
 "cells": [
  {
   "cell_type": "code",
   "execution_count": 2,
   "id": "10d0918d",
   "metadata": {},
   "outputs": [
    {
     "name": "stdout",
     "output_type": "stream",
     "text": [
      "Describe Function:\n",
      "        Age\n",
      "count   3.0\n",
      "mean   30.0\n",
      "std     5.0\n",
      "min    25.0\n",
      "25%    27.5\n",
      "50%    30.0\n",
      "75%    32.5\n",
      "max    35.0\n",
      "\n",
      "Head Function:\n",
      "0      Alice\n",
      "1        Bob\n",
      "2    Charlie\n",
      "Name: Name, dtype: object\n",
      "\n",
      "New Column 'Salary':\n",
      "      Name  Age           City  Salary\n",
      "0    Alice   25       New York   50000\n",
      "1      Bob   30  San Francisco   60000\n",
      "2  Charlie   35    Los Angeles   70000\n",
      "\n",
      "Filtered DataFrame:\n",
      "      Name  Age         City  Salary\n",
      "2  Charlie   35  Los Angeles   70000\n"
     ]
    }
   ],
   "source": [
    "#Q1. List any five functions of the pandas library with execution.\n",
    "\n",
    "import pandas as pd\n",
    "\n",
    "# 1. Creating a DataFrame\n",
    "data = {'Name': ['Alice', 'Bob', 'Charlie'],\n",
    "        'Age': [25, 30, 35],\n",
    "        'City': ['New York', 'San Francisco', 'Los Angeles']}\n",
    "df = pd.DataFrame(data)\n",
    "\n",
    "# 2. Describing the DataFrame\n",
    "print(\"Describe Function:\")\n",
    "print(df.describe())\n",
    "\n",
    "# 3. Accessing a specific column\n",
    "print(\"\\nHead Function:\")\n",
    "print(df['Name'].head())\n",
    "\n",
    "# 4. Adding a new column\n",
    "df['Salary'] = [50000, 60000, 70000]\n",
    "print(\"\\nNew Column 'Salary':\")\n",
    "print(df)\n",
    "\n",
    "# 5. Filtering based on a condition\n",
    "filtered_df = df[df['Age'] > 30]\n",
    "print(\"\\nFiltered DataFrame:\")\n",
    "print(filtered_df)\n"
   ]
  },
  {
   "cell_type": "code",
   "execution_count": 3,
   "id": "05fe43eb",
   "metadata": {},
   "outputs": [
    {
     "name": "stdout",
     "output_type": "stream",
     "text": [
      "    A   B   C\n",
      "1  10  40  70\n",
      "3  20  50  80\n",
      "5  30  60  90\n"
     ]
    }
   ],
   "source": [
    "#Q2. Given a Pandas DataFrame df with columns 'A', 'B', and 'C', write a Python function to re-index the DataFrame with a new index that starts from 1 and increments by 2 for each row.\n",
    "\n",
    "\n",
    "def reindex_with_increment(df):\n",
    "    new_index = range(1, len(df) * 2, 2)\n",
    "    df_reindexed = df.set_index(pd.Index(new_index))\n",
    "    return df_reindexed\n",
    "\n",
    "# Example Usage:\n",
    "data = {'A': [10, 20, 30], 'B': [40, 50, 60], 'C': [70, 80, 90]}\n",
    "df = pd.DataFrame(data)\n",
    "result = reindex_with_increment(df)\n",
    "print(result)\n"
   ]
  },
  {
   "cell_type": "code",
   "execution_count": 4,
   "id": "1b6caff6",
   "metadata": {},
   "outputs": [
    {
     "name": "stdout",
     "output_type": "stream",
     "text": [
      "Sum of the first three values: 60\n"
     ]
    }
   ],
   "source": [
    "#Q3. You have a Pandas DataFrame df with a column named 'Values'. Write a Python function that iterates over the DataFrame and calculates the sum of the first three values in the 'Values' column. The function should print the sum to the consol\n",
    "\n",
    "def sum_of_first_three_values(df):\n",
    "    values_sum = df['Values'].head(3).sum()\n",
    "    print(\"Sum of the first three values:\", values_sum)\n",
    "\n",
    "# Example Usage:\n",
    "data = {'Values': [10, 20, 30, 40, 50]}\n",
    "df = pd.DataFrame(data)\n",
    "sum_of_first_three_values(df)\n"
   ]
  },
  {
   "cell_type": "code",
   "execution_count": 5,
   "id": "f9ad0118",
   "metadata": {},
   "outputs": [
    {
     "ename": "IndentationError",
     "evalue": "unexpected indent (1504310922.py, line 13)",
     "output_type": "error",
     "traceback": [
      "\u001b[1;36m  Cell \u001b[1;32mIn[5], line 13\u001b[1;36m\u001b[0m\n\u001b[1;33m    df['Weekday'] = df['Date'].\u001b[0m\n\u001b[1;37m    ^\u001b[0m\n\u001b[1;31mIndentationError\u001b[0m\u001b[1;31m:\u001b[0m unexpected indent\n"
     ]
    }
   ],
   "source": [
    "#Q4. Given a Pandas DataFrame df with a column 'Text', write a Python function to create a new column 'Word_Count' that contains the number of words in each row of the 'Text' col\n",
    "\n",
    "def count_words(df):\n",
    "    df['Word_Count'] = df['Text'].apply(lambda x: len(str(x).split()))\n",
    "    return df\n",
    "\n",
    "# Example Usage:\n",
    "data = {'Text': ['This is a sample sentence.', 'Another example.', 'Pandas is powerful.']}\n",
    "df = pd.DataFrame(data)\n",
    "result_df = count_words(df)\n",
    "print(result_df)\n",
    "\n",
    "    df['Weekday'] = df['Date']."
   ]
  },
  {
   "cell_type": "code",
   "execution_count": 6,
   "id": "17bc691f",
   "metadata": {},
   "outputs": [
    {
     "ename": "SyntaxError",
     "evalue": "illegal target for annotation (3568343349.py, line 6)",
     "output_type": "error",
     "traceback": [
      "\u001b[1;36m  Cell \u001b[1;32mIn[6], line 6\u001b[1;36m\u001b[0m\n\u001b[1;33m    DataFrame.shape(): Returns a tuple representing the dimensions of the DataFrame (number of rows, number of columns).\u001b[0m\n\u001b[1;37m    ^\u001b[0m\n\u001b[1;31mSyntaxError\u001b[0m\u001b[1;31m:\u001b[0m illegal target for annotation\n"
     ]
    }
   ],
   "source": [
    "# Q5. How are DataFrame.size() and DataFrame.shape() different?\n",
    "# DataFrame.size(): Returns the total number of elements in the DataFrame (rows * columns)\n",
    "    \n",
    "size_value = df.size\n",
    "print(size_value)\n",
    "DataFrame.shape(): Returns a tuple representing the dimensions of the DataFrame (number of rows, number of columns).\n",
    "\n",
    "python\n",
    "Copy code\n",
    "shape_tuple = df.shape\n",
    "print(shape_tuple)\n"
   ]
  },
  {
   "cell_type": "code",
   "execution_count": 7,
   "id": "2b51111f",
   "metadata": {},
   "outputs": [
    {
     "ename": "SyntaxError",
     "evalue": "invalid syntax (2691658617.py, line 3)",
     "output_type": "error",
     "traceback": [
      "\u001b[1;36m  Cell \u001b[1;32mIn[7], line 3\u001b[1;36m\u001b[0m\n\u001b[1;33m    Copy code\u001b[0m\n\u001b[1;37m         ^\u001b[0m\n\u001b[1;31mSyntaxError\u001b[0m\u001b[1;31m:\u001b[0m invalid syntax\n"
     ]
    }
   ],
   "source": [
    "Q6. Which function of pandas do we use to read an excel file?\n",
    "python\n",
    "Copy code\n",
    "import pandas as pd\n",
    "\n",
    "# Reading an Excel file\n",
    "df = pd.read_excel('example.xlsx')\n",
    "\n",
    "# Example Usage:\n",
    "print(df)\n"
   ]
  },
  {
   "cell_type": "code",
   "execution_count": null,
   "id": "d412e91a",
   "metadata": {},
   "outputs": [],
   "source": [
    "Q7. You have a Pandas DataFrame df that contains a column named 'Email' that contains email addresses in the format 'username@domain.com'. Write a Python function that creates a new column 'Username' in df that contains only the username part of each email address.\n",
    "python\n",
    "Copy code\n",
    "import pandas as pd\n",
    "\n",
    "def extract_username(df):\n",
    "    df['Username'] = df['Email'].apply(lambda x: x.split('@')[0])\n",
    "    return df\n",
    "\n",
    "# Example Usage:\n",
    "data = {'Email': ['john.doe@example.com', 'jane.smith@example.com', 'bob@gmail.com']}\n",
    "df = pd.DataFrame(data)\n",
    "result_df = extract_username(df)\n",
    "print(result_df)\n"
   ]
  },
  {
   "cell_type": "code",
   "execution_count": null,
   "id": "4cefc9f2",
   "metadata": {},
   "outputs": [],
   "source": [
    "Q8. You have a Pandas DataFrame df with columns 'A', 'B', and 'C'. Write a Python function that selects all rows where the value in column 'A' is greater than 5 and the value in column 'B' is less than 10. The function should return a new DataFrame that contains only the selected rows.\n",
    "python\n",
    "Copy code\n",
    "import pandas as pd\n",
    "\n",
    "def select_rows(df):\n",
    "    selected_df = df[(df['A'] > 5) & (df['B'] < 10)]\n",
    "    return selected_df\n",
    "\n",
    "# Example Usage:\n",
    "data = {'A': [3, 8, 6, 2, 9], 'B': [5, 2, 9, 3, 1], 'C': [1, 7, 4, 5, 2]}\n",
    "df = pd.DataFrame(data)\n",
    "result_df = select_rows(df)\n",
    "print(result_df)\n"
   ]
  },
  {
   "cell_type": "code",
   "execution_count": null,
   "id": "599768eb",
   "metadata": {},
   "outputs": [],
   "source": [
    "Q9. Given a Pandas DataFrame df with a column 'Values', write a Python function to calculate the mean, median, and standard deviation of the values in the 'Values' column.\n",
    "python\n",
    "Copy code\n",
    "import pandas as pd\n",
    "\n",
    "def calculate_stats(df):\n",
    "    mean_value = df['Values'].mean()\n",
    "    median_value = df['Values'].median()\n",
    "    std_deviation = df['Values'].std()\n",
    "    print(\"Mean:\", mean_value)\n",
    "    print(\"Median:\", median_value)\n",
    "    print(\"Standard Deviation:\", std_deviation)\n",
    "\n",
    "# Example Usage:\n",
    "data = {'Values': [10, 20, 30, 40, 50]}\n",
    "df = pd.DataFrame(data)\n",
    "calculate_stats(df)\n"
   ]
  },
  {
   "cell_type": "code",
   "execution_count": null,
   "id": "7e8eba1e",
   "metadata": {},
   "outputs": [],
   "source": [
    "Q10. Given a Pandas DataFrame df with a column 'Sales' and a column 'Date', write a Python function to create a new column 'MovingAverage' that contains the moving average of the sales for the past 7 days for each row in the DataFrame. The moving average should be calculated using a window of size 7 and should include the current day.\n",
    "python\n",
    "Copy code\n",
    "import pandas as pd\n",
    "\n",
    "def calculate_moving_average(df):\n",
    "    df['MovingAverage'] = df['Sales'].rolling(window=7, min_periods=1).mean()\n",
    "    return df\n",
    "\n",
    "# Example Usage:\n",
    "data = {'Date': pd.date_range(start='2023-01-01', periods=10),\n",
    "        'Sales': [100, 200, 150, 300, 250, 180, 400, 350, 280, 500]}\n",
    "df = pd.DataFrame(data)\n",
    "result_df = calculate_moving_average(df)\n",
    "print(result_df)\n"
   ]
  },
  {
   "cell_type": "code",
   "execution_count": 1,
   "id": "e1fc6d2a",
   "metadata": {},
   "outputs": [
    {
     "ename": "SyntaxError",
     "evalue": "incomplete input (2624145795.py, line 4)",
     "output_type": "error",
     "traceback": [
      "\u001b[1;36m  Cell \u001b[1;32mIn[1], line 4\u001b[1;36m\u001b[0m\n\u001b[1;33m    def add_weekday_column(df):\u001b[0m\n\u001b[1;37m                               ^\u001b[0m\n\u001b[1;31mSyntaxError\u001b[0m\u001b[1;31m:\u001b[0m incomplete input\n"
     ]
    }
   ],
   "source": [
    "# Q11. You have a Pandas DataFrame df with a column 'Date'. Write a Python function that creates a new column 'Weekday' in the DataFrame. The 'Weekday' column should contain the weekday name (e.g., Monday, Tuesday) corresponding to each date in the 'Date' column.\n",
    "# python\n",
    "\n",
    "def add_weekday_column(df):"
   ]
  },
  {
   "cell_type": "code",
   "execution_count": null,
   "id": "8f56e5f5",
   "metadata": {},
   "outputs": [],
   "source": []
  }
 ],
 "metadata": {
  "kernelspec": {
   "display_name": "Python 3 (ipykernel)",
   "language": "python",
   "name": "python3"
  },
  "language_info": {
   "codemirror_mode": {
    "name": "ipython",
    "version": 3
   },
   "file_extension": ".py",
   "mimetype": "text/x-python",
   "name": "python",
   "nbconvert_exporter": "python",
   "pygments_lexer": "ipython3",
   "version": "3.11.2"
  }
 },
 "nbformat": 4,
 "nbformat_minor": 5
}
